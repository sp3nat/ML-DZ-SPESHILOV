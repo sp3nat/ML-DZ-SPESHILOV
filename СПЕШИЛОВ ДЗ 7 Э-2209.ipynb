{
  "cells": [
    {
      "cell_type": "code",
      "execution_count": 1,
      "metadata": {
        "id": "PLEfjc7ZF2oo"
      },
      "outputs": [],
      "source": [
        "import numpy as np\n",
        "import matplotlib.pyplot as plt\n",
        "\n",
        "from sklearn.datasets import load_digits\n",
        "from sklearn.model_selection import train_test_split\n",
        "\n",
        "np.random.seed(13)"
      ]
    },
    {
      "cell_type": "markdown",
      "metadata": {
        "id": "cBO28yosF2ou"
      },
      "source": [
        "### Данные"
      ]
    },
    {
      "cell_type": "code",
      "execution_count": 2,
      "metadata": {
        "id": "WZiO8IkkF2ow"
      },
      "outputs": [],
      "source": [
        "data = load_digits()"
      ]
    },
    {
      "cell_type": "code",
      "execution_count": 3,
      "metadata": {
        "id": "VXwbMQk1F2ox"
      },
      "outputs": [],
      "source": [
        "X = data['data']\n",
        "y = (data['target'] >= 5).astype(np.int32)"
      ]
    },
    {
      "cell_type": "code",
      "execution_count": 4,
      "metadata": {
        "colab": {
          "base_uri": "https://localhost:8080/",
          "height": 473
        },
        "id": "yrobdhWOF2oy",
        "outputId": "bcce9c50-4991-45c6-d202-06ccf8dca294"
      },
      "outputs": [
        {
          "output_type": "display_data",
          "data": {
            "text/plain": [
              "<Figure size 640x480 with 0 Axes>"
            ]
          },
          "metadata": {}
        },
        {
          "output_type": "display_data",
          "data": {
            "text/plain": [
              "<Figure size 480x480 with 1 Axes>"
            ],
            "image/png": "[encoded data removed]"
          },
          "metadata": {}
        },
        {
          "output_type": "stream",
          "name": "stdout",
          "text": [
            "6\n"
          ]
        }
      ],
      "source": [
        "plt.gray()\n",
        "index = np.random.randint(0, len(X) - 1)\n",
        "plt.matshow(X[index].reshape(8, 8))\n",
        "plt.show()\n",
        "print(data.target[index])"
      ]
    },
    {
      "cell_type": "code",
      "execution_count": 5,
      "metadata": {
        "id": "ZuTYUNrrF2o0"
      },
      "outputs": [],
      "source": [
        "X_train, X_test, y_train, y_test = train_test_split(X,\n",
        "                                                    y,\n",
        "                                                    train_size=0.77,\n",
        "                                                    shuffle=True)"
      ]
    },
    {
      "cell_type": "code",
      "execution_count": 6,
      "metadata": {
        "id": "7NYqWl9nF2o0",
        "outputId": "a462a687-3536-4ad0-b37f-e5dae6e69962",
        "colab": {
          "base_uri": "https://localhost:8080/"
        }
      },
      "outputs": [
        {
          "output_type": "execute_result",
          "data": {
            "text/plain": [
              "((1383, 64), (414, 64))"
            ]
          },
          "metadata": {},
          "execution_count": 6
        }
      ],
      "source": [
        "X_train.shape, X_test.shape"
      ]
    },
    {
      "cell_type": "markdown",
      "metadata": {
        "id": "a8HeOx9TF2o1"
      },
      "source": [
        "### Логистическая регрессия"
      ]
    },
    {
      "cell_type": "markdown",
      "metadata": {
        "id": "yPVYiOCyF2o3"
      },
      "source": [
        "Вычисление предсказания логистической регрессией для объекта $x_i \\in \\mathbb{R}^n$ :\n",
        "\n",
        "* $z = w^T x_i + b, \\quad w \\in \\mathbb{R}^n, b \\in \\mathbb{R}$\n",
        "* $a = \\sigma (z)$"
      ]
    },
    {
      "cell_type": "markdown",
      "metadata": {
        "id": "IT2v_jzeF2o3"
      },
      "source": [
        "Сигмоида\n",
        "\n",
        "$$\\sigma(x) = \\frac{1}{1 + e^{-x}}$$\n",
        "\n",
        "![alt text](https://upload.wikimedia.org/wikipedia/commons/a/ac/Logistic-curve.png)"
      ]
    },
    {
      "cell_type": "markdown",
      "metadata": {
        "id": "0f5i_KJ6F2o4"
      },
      "source": [
        "Логистическая фунция потерь:\n",
        "\n",
        "$$L_i(a) = -y_i \\cdot log(a) - (1 - y_i) \\cdot log(1 - a)$$"
      ]
    },
    {
      "cell_type": "markdown",
      "metadata": {
        "id": "YGTz-TSoF2o4"
      },
      "source": [
        "Производные функции по параметрам:\n",
        "\n",
        "$$\\frac{\\partial L_i}{\\partial w} = \\frac{\\partial L_i}{\\partial a} \\cdot \\frac{\\partial a}{\\partial z}\n",
        "\\cdot \\frac{\\partial z}{\\partial w} = \\frac {a - y_i} {a \\cdot (1-a)} \\cdot a \\cdot (1-a) \\cdot x_i = (a-y_i) \\cdot x_i $$\n",
        "\n",
        "$$\\frac{\\partial L_i}{\\partial b} = \\frac{\\partial L_i}{\\partial a} \\cdot \\frac{\\partial a}{\\partial z}\n",
        "\\cdot \\frac{\\partial z}{\\partial b} = \\frac {a - y_i} {a \\cdot (1-a)} \\cdot a \\cdot (1-a) \\cdot 1 = a-y_i $$\n",
        "\n",
        "Используются для минимизации функции потерь $L$ с помощью градиентного спуска."
      ]
    },
    {
      "cell_type": "code",
      "execution_count": 7,
      "metadata": {
        "id": "QgEqkURSF2o5"
      },
      "outputs": [],
      "source": [
        "def log_loss(y_true, y_pred):\n",
        "    return -np.sum(y_true * np.log(y_pred) + (1 - y_true) * np.log(1 - y_pred), axis=0) / len(y_true)\n",
        "\n",
        "def sigmoid(x):\n",
        "    return 1 / (1 + np.exp(-x))"
      ]
    },
    {
      "cell_type": "code",
      "execution_count": 8,
      "metadata": {
        "id": "YhHnom43F2o5",
        "outputId": "f4e7ca7c-2322-45ce-f5dc-234b8cee3278",
        "colab": {
          "base_uri": "https://localhost:8080/"
        }
      },
      "outputs": [
        {
          "output_type": "stream",
          "name": "stdout",
          "text": [
            "Число объектов в обучающей выборке: 1383\n",
            "Размерность объекта: 64\n"
          ]
        }
      ],
      "source": [
        "m, n = X_train.shape\n",
        "print(f'Число объектов в обучающей выборке: {m}\\nРазмерность объекта: {n}')"
      ]
    },
    {
      "cell_type": "code",
      "source": [
        "\n",
        "import numpy as np\n",
        "import matplotlib.pyplot as plt\n",
        "\n",
        "from sklearn.datasets import load_digits\n",
        "from sklearn.model_selection import train_test_split\n",
        "from sklearn.metrics import accuracy_score, classification_report, confusion_matrix\n",
        "\n",
        "np.random.seed(13)\n",
        "\n",
        "# подгружаем цифры и делаем бинарную задачу: 1—если цифра ≥5, иначе 0\n",
        "data = load_digits()\n",
        "X = data['data']\n",
        "y = (data['target'] >= 5).astype(np.int32)\n",
        "\n",
        "plt.gray()\n",
        "idx = np.random.randint(0, len(X))\n",
        "plt.matshow(X[idx].reshape(8, 8))\n",
        "plt.title(f\"Label = {data.target[idx]}\")\n",
        "plt.show()\n",
        "\n",
        "# 2 разбиваем на train/test\n",
        "X_train, X_test, y_train, y_test = train_test_split(\n",
        "    X, y,\n",
        "    train_size=0.77,\n",
        "    shuffle=True,\n",
        "    random_state=13\n",
        ")\n",
        "\n",
        "m, n = X_train.shape\n",
        "print(f\"Train: {m} samples, {n} features;  Test: {X_test.shape[0]} samples\")\n",
        "\n",
        "# 3 Инициализация параметров\n",
        "w = np.zeros(n)    # вектор весов\n",
        "b = 0.0            # свободный член\n",
        "\n",
        "# гиперпараметры\n",
        "lr = 0.01          # скорость обучения\n",
        "num_iters = 2000   # число шагов градиентного спуска\n",
        "\n",
        "# 4 функции\n",
        "def sigmoid(z):\n",
        "    return 1 / (1 + np.exp(-z))\n",
        "\n",
        "def compute_loss_and_grads(X, y, w, b):\n",
        "    \"\"\"\n",
        "    Вычисляет лог-лосс и его градиенты по w и b на выборке X,y.\n",
        "    \"\"\"\n",
        "    m = X.shape[0]\n",
        "    z = X.dot(w) + b\n",
        "    a = sigmoid(z)\n",
        "    # loss\n",
        "    loss = - np.mean(y * np.log(a + 1e-15) + (1 - y) * np.log(1 - a + 1e-15))\n",
        "    # градиенты\n",
        "    dz = a - y\n",
        "    dw = (1/m) * X.T.dot(dz)\n",
        "    db = np.mean(dz)\n",
        "    return loss, dw, db\n",
        "\n",
        "# 5 градиентный спуск\n",
        "loss_history = []\n",
        "\n",
        "for i in range(num_iters):\n",
        "    loss, dw, db = compute_loss_and_grads(X_train, y_train, w, b)\n",
        "    w -= lr * dw\n",
        "    b -= lr * db\n",
        "    loss_history.append(loss)\n",
        "    if i % 200 == 0:\n",
        "        print(f\"Iteration {i:4d}: loss = {loss:.4f}\")\n",
        "\n",
        "# 6 кривая обучения\n",
        "plt.plot(loss_history)\n",
        "plt.xlabel(\"Iteration\")\n",
        "plt.ylabel(\"Log Loss\")\n",
        "plt.title(\"Training Loss Curve\")\n",
        "plt.show()\n",
        "\n",
        "# 7 Оценка на тесте\n",
        "z_test = X_test.dot(w) + b\n",
        "a_test = sigmoid(z_test)\n",
        "y_pred = (a_test >= 0.5).astype(int)\n",
        "\n",
        "print(f\"Test Accuracy: {accuracy_score(y_test, y_pred):.4f}\\n\")\n",
        "\n"
      ],
      "metadata": {
        "colab": {
          "base_uri": "https://localhost:8080/",
          "height": 1000
        },
        "id": "B6KT-pdd0Qct",
        "outputId": "77306ef0-5618-46c0-e4e3-085cb4176b3f"
      },
      "execution_count": 14,
      "outputs": [
        {
          "output_type": "display_data",
          "data": {
            "text/plain": [
              "<Figure size 640x480 with 0 Axes>"
            ]
          },
          "metadata": {}
        },
        {
          "output_type": "display_data",
          "data": {
            "text/plain": [
              "<Figure size 480x480 with 1 Axes>"
            ],
            "image/png": "[encoded data removed]"
          },
          "metadata": {}
        },
        {
          "output_type": "stream",
          "name": "stdout",
          "text": [
            "Train: 1383 samples, 64 features;  Test: 414 samples\n",
            "Iteration    0: loss = 0.6931\n",
            "Iteration  200: loss = 0.3043\n",
            "Iteration  400: loss = 0.2644\n",
            "Iteration  600: loss = 0.2544\n",
            "Iteration  800: loss = 0.2498\n",
            "Iteration 1000: loss = 0.2478\n",
            "Iteration 1200: loss = 0.2467\n",
            "Iteration 1400: loss = 0.2460\n",
            "Iteration 1600: loss = 0.2454\n",
            "Iteration 1800: loss = 0.2450\n"
          ]
        },
        {
          "output_type": "display_data",
          "data": {
            "text/plain": [
              "<Figure size 640x480 with 1 Axes>"
            ],
            "image/png": "[encoded data removed]"
          },
          "metadata": {}
        },
        {
          "output_type": "stream",
          "name": "stdout",
          "text": [
            "Test Accuracy: 0.8816\n",
            "\n"
          ]
        }
      ]
    }
  ],
  "metadata": {
    "kernelspec": {
      "display_name": "Python 3",
      "language": "python",
      "name": "python3"
    },
    "language_info": {
      "codemirror_mode": {
        "name": "ipython",
        "version": 3
      },
      "file_extension": ".py",
      "mimetype": "text/x-python",
      "name": "python",
      "nbconvert_exporter": "python",
      "pygments_lexer": "ipython3",
      "version": "3.7.5"
    },
    "colab": {
      "provenance": []
    }
  },
  "nbformat": 4,
  "nbformat_minor": 0
}