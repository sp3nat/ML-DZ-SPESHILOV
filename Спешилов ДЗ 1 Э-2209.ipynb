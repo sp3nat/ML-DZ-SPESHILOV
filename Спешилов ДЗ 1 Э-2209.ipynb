{
  "cells": [
    {
      "cell_type": "code",
      "execution_count": 23,
      "metadata": {
        "id": "1H4ud5hc92YZ"
      },
      "outputs": [],
      "source": [
        "import numpy as np\n",
        "import pandas as pd\n",
        "import re\n",
        "\n",
        "import matplotlib.pyplot as plt\n",
        "%matplotlib inline\n",
        "\n",
        "plt.rcParams[\"figure.figsize\"] = (12,6)"
      ]
    },
    {
      "cell_type": "markdown",
      "source": [
        "# NumPy"
      ],
      "metadata": {
        "id": "2wubgrQ0-LFn"
      }
    },
    {
      "cell_type": "markdown",
      "source": [
        "**Задача 1**\\\n",
        "Сгенерировать массив из случайных положительных чисел произвольной длины. Вывести элементы, которые больше среднего арифметического."
      ],
      "metadata": {
        "id": "2k7YwLDI-ZTO"
      }
    },
    {
      "cell_type": "code",
      "source": [
        "\n",
        "array_length = np.random.randint(10, 20)\n",
        "random_array = np.random.randint(1, 101, size=array_length)\n",
        "\n",
        "mean_value = np.mean(random_array)\n",
        "\n",
        "above_mean = random_array[random_array > mean_value]\n",
        "\n",
        "print(\"Массив:\", random_array)\n",
        "print(\"Среднее арифметическое:\", mean_value)\n",
        "print(\"Элементы больше среднего:\", above_mean)"
      ],
      "metadata": {
        "colab": {
          "base_uri": "https://localhost:8080/"
        },
        "id": "KKDGDRXboali",
        "outputId": "4c9faa97-1ef0-4c3b-bbca-b2263c8e6d59"
      },
      "execution_count": 68,
      "outputs": [
        {
          "output_type": "stream",
          "name": "stdout",
          "text": [
            "Массив: [79 94 11 13 38 44 98 61 26 88 92 11 95 16]\n",
            "Среднее арифметическое: 54.714285714285715\n",
            "Элементы больше среднего: [79 94 98 61 88 92 95]\n"
          ]
        }
      ]
    },
    {
      "cell_type": "markdown",
      "source": [
        "**Задача 2**\\\n",
        "Сгенерировать массив из 20 случайных элементов, элементы которого лежат в интервале [0, 10].\n",
        "+ Определить количество элементов, отличающихся от минимального на 5.\n",
        "+ Найти среднее арифметическое всех четных элементов массива, стоящих на нечетных местах."
      ],
      "metadata": {
        "id": "Mst7phpH-gRv"
      }
    },
    {
      "cell_type": "code",
      "source": [
        "\n",
        "random_array = np.random.randint(0, 11, size=20)\n",
        "min_value = np.min(random_array)\n",
        "\n",
        "count_diff_5 = np.sum(random_array == min_value + 5)\n",
        "\n",
        "even_elements_on_odd_positions = [random_array[i] for i in range(1, len(random_array), 2) if random_array[i] % 2 == 0]\n",
        "\n",
        "mean_even_on_odd_positions = np.mean(even_elements_on_odd_positions) if even_elements_on_odd_positions else 0\n",
        "\n",
        "print(\"Массив:\", random_array)\n",
        "print(\"Минимальное значение:\", min_value)\n",
        "print(\"Количество элементов, отличающихся от минимального на 5:\", count_diff_5)\n",
        "print(\"Среднее арифметическое четных элементов на нечетных местах:\", mean_even_on_odd_positions)"
      ],
      "metadata": {
        "colab": {
          "base_uri": "https://localhost:8080/"
        },
        "id": "vY7_dk8CpT7f",
        "outputId": "6e058aef-34a8-49c3-d218-55c6267c81a9"
      },
      "execution_count": 69,
      "outputs": [
        {
          "output_type": "stream",
          "name": "stdout",
          "text": [
            "Массив: [3 1 2 0 7 0 2 9 8 7 1 6 9 1 8 3 8 4 1 2]\n",
            "Минимальное значение: 0\n",
            "Количество элементов, отличающихся от минимального на 5: 0\n",
            "Среднее арифметическое четных элементов на нечетных местах: 2.4\n"
          ]
        }
      ]
    },
    {
      "cell_type": "code",
      "source": [
        "\n",
        "random_array = np.random.randint(0, 11, size=20)\n",
        "min_value = np.min(random_array)\n",
        "\n",
        "count_diff_5 = np.sum(np.abs(random_array - min_value) > 5)\n",
        "\n",
        "even_elements_on_odd_positions = [random_array[i] for i in range(1, len(random_array), 2) if random_array[i] % 2 == 0]\n",
        "\n",
        "mean_even_on_odd_positions = np.mean(even_elements_on_odd_positions) if even_elements_on_odd_positions else 0\n",
        "\n",
        "print(\"Сгенерированный массив:\", random_array)\n",
        "print(\"Минимальное значение:\", min_value)\n",
        "print(\"Количество элементов, отличающихся от минимального более чем на 5:\", count_diff_5)\n",
        "print(\"Среднее арифметическое четных элементов на нечетных местах:\", mean_even_on_odd_positions)"
      ],
      "metadata": {
        "colab": {
          "base_uri": "https://localhost:8080/"
        },
        "id": "FbYd00mpqOt_",
        "outputId": "3461492c-fd8f-4bc7-d061-2905bce91f9b"
      },
      "execution_count": 70,
      "outputs": [
        {
          "output_type": "stream",
          "name": "stdout",
          "text": [
            "Сгенерированный массив: [3 9 3 9 0 8 5 2 3 3 6 8 3 5 0 9 4 9 7 6]\n",
            "Минимальное значение: 0\n",
            "Количество элементов, отличающихся от минимального более чем на 5: 9\n",
            "Среднее арифметическое четных элементов на нечетных местах: 6.0\n"
          ]
        }
      ]
    },
    {
      "cell_type": "markdown",
      "source": [
        "**Задача 3**\\\n",
        "Сгенерировать матрицу A размером 5 на 5, элементы которой лежат в интервале [1, 10].\n",
        "+ Возвести в квадрат максимальный элемент матрицы.\n",
        "+ Все четные числа заменить на 0."
      ],
      "metadata": {
        "id": "JqjshV81-iSg"
      }
    },
    {
      "cell_type": "code",
      "source": [
        "\n",
        "A = np.random.randint(1, 11, size=(5, 5))\n",
        "max_value = np.max(A)\n",
        "\n",
        "A[A == max_value] = max_value ** 2\n",
        "A[A % 2 == 0] = 0\n",
        "\n",
        "print(\"Матрица:\")\n",
        "print(A)\n"
      ],
      "metadata": {
        "colab": {
          "base_uri": "https://localhost:8080/"
        },
        "id": "hwCq45v7py-Z",
        "outputId": "ae4c2672-42c3-42b9-eecd-89cfd03e09de"
      },
      "execution_count": 66,
      "outputs": [
        {
          "output_type": "stream",
          "name": "stdout",
          "text": [
            "Матрица:\n",
            "[[7 3 5 0 0]\n",
            " [0 0 0 0 0]\n",
            " [0 0 7 0 0]\n",
            " [0 3 0 0 5]\n",
            " [0 9 1 9 7]]\n"
          ]
        }
      ]
    },
    {
      "cell_type": "markdown",
      "source": [
        "**Задача 4**\\\n",
        "Сгенерировать матрицу B размером 5 на 5, элементы которой лежат в интервале [-5, 5]. Отрицательные элементы матрицы заменить на число отрицательных элементов в строке, в которой они находятся."
      ],
      "metadata": {
        "id": "CmH-d_86-mFS"
      }
    },
    {
      "cell_type": "code",
      "source": [
        "B = np.random.randint(-5, 6, size=(5, 5))\n",
        "\n",
        "B_mod = B.copy()\n",
        "\n",
        "for i in range(B.shape[0]):\n",
        "    negative_count = np.sum(B[i] < 0)\n",
        "    B_mod[i][B[i] < 0] = negative_count\n",
        "\n",
        "print(\"Исходная матрица:\")\n",
        "print(B)\n",
        "print(\"\\nИзменённая матрица:\")\n",
        "print(B_mod)"
      ],
      "metadata": {
        "colab": {
          "base_uri": "https://localhost:8080/"
        },
        "id": "DeKlSKxJqmb6",
        "outputId": "dd996293-2073-4480-ad97-e776e317e80f"
      },
      "execution_count": 71,
      "outputs": [
        {
          "output_type": "stream",
          "name": "stdout",
          "text": [
            "Исходная матрица:\n",
            "[[ 4 -3  0  3 -2]\n",
            " [ 3 -2  5 -3 -2]\n",
            " [ 3  2 -1 -2  2]\n",
            " [-5  1 -2  1  3]\n",
            " [-3  3  3  3  3]]\n",
            "\n",
            "Изменённая матрица:\n",
            "[[4 2 0 3 2]\n",
            " [3 3 5 3 3]\n",
            " [3 2 2 2 2]\n",
            " [2 1 2 1 3]\n",
            " [1 3 3 3 3]]\n"
          ]
        }
      ]
    },
    {
      "cell_type": "markdown",
      "source": [
        "# Pandas"
      ],
      "metadata": {
        "id": "v37bUhDL-P0e"
      }
    },
    {
      "cell_type": "code",
      "source": [
        "df = pd.read_csv(\"https://raw.githubusercontent.com/rolandmueller/titanic/main/titanic3.csv\")"
      ],
      "metadata": {
        "id": "S7fCa_Th-UzD"
      },
      "execution_count": 2,
      "outputs": []
    },
    {
      "cell_type": "code",
      "source": [
        "# проверяем возрастные аномалии (очень большой возраст)\n",
        "outlier_ages = df[df[\"age\"] > 100]\n",
        "\n",
        "# проверяем аномальные значения цены билета (нулевая цена или сверхвысокие значения)\n",
        "outlier_fares = df[(df[\"fare\"] == 0) | (df[\"fare\"] > 600)]\n",
        "\n",
        "# проверяем количество родственников (очень большое число)\n",
        "outlier_sibsp_parch = df[(df[\"sibsp\"] > 10) | (df[\"parch\"] > 8)]\n",
        "\n",
        "# проверяем странные значения в месте посадки\n",
        "invalid_embarked = df[~df[\"embarked\"].isin([\"C\", \"Q\", \"S\"])]\n",
        "\n",
        "print(\"Аномальные возраста (больше 100 лет):\")\n",
        "print(outlier_ages, \"\\n\")\n",
        "\n",
        "print(\"Аномальные цены билетов (0 или > 600):\")\n",
        "print(outlier_fares, \"\\n\")\n",
        "\n",
        "print(\"Пассажиры с подозрительным числом родственников (sibsp/parch > 8):\")\n",
        "print(outlier_sibsp_parch, \"\\n\")\n",
        "\n",
        "print(\"Некорректные данные в порте посадки:\")\n",
        "print(invalid_embarked, \"\\n\")"
      ],
      "metadata": {
        "colab": {
          "base_uri": "https://localhost:8080/"
        },
        "id": "bR22MZXj3EPx",
        "outputId": "ac2ead4d-caab-48ac-c8c2-c969427e8513"
      },
      "execution_count": 55,
      "outputs": [
        {
          "output_type": "stream",
          "name": "stdout",
          "text": [
            "Аномальные возраста (больше 100 лет):\n",
            "Empty DataFrame\n",
            "Columns: [pclass, survived, name, sex, age, sibsp, parch, ticket, fare, cabin, embarked, boat, body, home.dest, age_group, first_name, AgeGroup]\n",
            "Index: [] \n",
            "\n",
            "Аномальные цены билетов (0 или > 600):\n",
            "      pclass  survived                                   name   sex   age  \\\n",
            "7          1         0                 Andrews, Mr. Thomas Jr  male  39.0   \n",
            "70         1         0  Chisholm, Mr. Roderick Robert Crispin  male   NaN   \n",
            "125        1         0                       Fry, Mr. Richard  male   NaN   \n",
            "150        1         0                  Harrison, Mr. William  male  40.0   \n",
            "170        1         1                Ismay, Mr. Joseph Bruce  male  49.0   \n",
            "223        1         0          Parr, Mr. William Henry Marsh  male   NaN   \n",
            "234        1         0        Reuchlin, Jonkheer. John George  male  38.0   \n",
            "363        2         0                  Campbell, Mr. William  male   NaN   \n",
            "384        2         0         Cunningham, Mr. Alfred Fleming  male   NaN   \n",
            "410        2         0       Frost, Mr. Anthony Wood \"Archie\"  male   NaN   \n",
            "473        2         0                   Knight, Mr. Robert J  male   NaN   \n",
            "528        2         0            Parkes, Mr. Francis \"Frank\"  male   NaN   \n",
            "581        2         0             Watson, Mr. Ennis Hastings  male   NaN   \n",
            "896        3         0                    Johnson, Mr. Alfred  male  49.0   \n",
            "898        3         0        Johnson, Mr. William Cahoone Jr  male  19.0   \n",
            "963        3         0                    Leonard, Mr. Lionel  male  36.0   \n",
            "1254       3         1           Tornquist, Mr. William Henry  male  25.0   \n",
            "\n",
            "      sibsp  parch  ticket  fare        cabin embarked boat   body  \\\n",
            "7         0      0  112050   0.0          A36        S  NaN    NaN   \n",
            "70        0      0  112051   0.0          NaN        S  NaN    NaN   \n",
            "125       0      0  112058   0.0         B102        S  NaN    NaN   \n",
            "150       0      0  112059   0.0          B94        S  NaN  110.0   \n",
            "170       0      0  112058   0.0  B52 B54 B56        S    C    NaN   \n",
            "223       0      0  112052   0.0          NaN        S  NaN    NaN   \n",
            "234       0      0   19972   0.0          NaN        S  NaN    NaN   \n",
            "363       0      0  239853   0.0          NaN        S  NaN    NaN   \n",
            "384       0      0  239853   0.0          NaN        S  NaN    NaN   \n",
            "410       0      0  239854   0.0          NaN        S  NaN    NaN   \n",
            "473       0      0  239855   0.0          NaN        S  NaN    NaN   \n",
            "528       0      0  239853   0.0          NaN        S  NaN    NaN   \n",
            "581       0      0  239856   0.0          NaN        S  NaN    NaN   \n",
            "896       0      0    LINE   0.0          NaN        S  NaN    NaN   \n",
            "898       0      0    LINE   0.0          NaN        S  NaN    NaN   \n",
            "963       0      0    LINE   0.0          NaN        S  NaN    NaN   \n",
            "1254      0      0    LINE   0.0          NaN        S   15    NaN   \n",
            "\n",
            "                         home.dest  age_group first_name  AgeGroup  \n",
            "7                      Belfast, NI        2.0     Thomas       2.0  \n",
            "70    Liverpool, England / Belfast        NaN   Roderick       NaN  \n",
            "125                            NaN        NaN    Richard       NaN  \n",
            "150                            NaN        2.0    William       2.0  \n",
            "170                      Liverpool        2.0     Joseph       2.0  \n",
            "223                        Belfast        NaN    William       NaN  \n",
            "234         Rotterdam, Netherlands        2.0       John       2.0  \n",
            "363                        Belfast        NaN    William       NaN  \n",
            "384                        Belfast        NaN     Alfred       NaN  \n",
            "410                        Belfast        NaN    Anthony       NaN  \n",
            "473                        Belfast        NaN     Robert       NaN  \n",
            "528                        Belfast        NaN    Francis       NaN  \n",
            "581                        Belfast        NaN      Ennis       NaN  \n",
            "896                            NaN        2.0     Alfred       2.0  \n",
            "898                            NaN        1.0    William       1.0  \n",
            "963                            NaN        2.0     Lionel       2.0  \n",
            "1254                           NaN        1.0    William       1.0   \n",
            "\n",
            "Пассажиры с подозрительным числом родственников (sibsp/parch > 8):\n",
            "      pclass  survived                            name     sex  age  sibsp  \\\n",
            "1179       3         0           Sage, Mr. John George    male  NaN      1   \n",
            "1180       3         0  Sage, Mrs. John (Annie Bullen)  female  NaN      1   \n",
            "\n",
            "      parch    ticket   fare cabin embarked boat  body home.dest  age_group  \\\n",
            "1179      9  CA. 2343  69.55   NaN        S  NaN   NaN       NaN        NaN   \n",
            "1180      9  CA. 2343  69.55   NaN        S  NaN   NaN       NaN        NaN   \n",
            "\n",
            "     first_name  AgeGroup  \n",
            "1179       John       NaN  \n",
            "1180      Annie       NaN   \n",
            "\n",
            "Некорректные данные в порте посадки:\n",
            "     pclass  survived                                       name     sex  \\\n",
            "168       1         1                        Icard, Miss. Amelie  female   \n",
            "284       1         1  Stone, Mrs. George Nelson (Martha Evelyn)  female   \n",
            "\n",
            "      age  sibsp  parch  ticket  fare cabin embarked boat  body  \\\n",
            "168  38.0      0      0  113572  80.0   B28      NaN    6   NaN   \n",
            "284  62.0      0      0  113572  80.0   B28      NaN    6   NaN   \n",
            "\n",
            "          home.dest  age_group first_name  AgeGroup  \n",
            "168             NaN        2.0     Amelie       2.0  \n",
            "284  Cincinatti, OH        3.0     Martha       3.0   \n",
            "\n"
          ]
        }
      ]
    },
    {
      "cell_type": "code",
      "source": [
        "\n",
        "df = df[df[\"age\"] <= 100]\n",
        "\n",
        "df = df[(df[\"fare\"] > 0) & (df[\"fare\"] <= 600)]\n",
        "\n",
        "df = df[(df[\"sibsp\"] <= 8) & (df[\"parch\"] <= 8)]\n",
        "\n",
        "df = df[df[\"embarked\"].isin([\"C\", \"Q\", \"S\"])]\n"
      ],
      "metadata": {
        "id": "l1AaWcp63wcT"
      },
      "execution_count": 64,
      "outputs": []
    },
    {
      "cell_type": "markdown",
      "metadata": {
        "id": "foLOzXST92Yc"
      },
      "source": [
        "**Задание 1**\n",
        "+ Какой была максимальная цена билета? Медиана?\n",
        "+ Какова доля выживших?\n",
        "+ Сколько мужчин / женщин находилось на борту?"
      ]
    },
    {
      "cell_type": "code",
      "source": [
        "#максимальная цена билета и медиана\n",
        "max_fare = df[\"fare\"].max()\n",
        "median_fare = df[\"fare\"].median()\n",
        "\n",
        "# доля выживших\n",
        "survival_rate = df[\"survived\"].mean()\n",
        "\n",
        "# кол-во муж/жен\n",
        "gender_counts = df[\"sex\"].value_counts()\n",
        "\n",
        "print(f\"Максимальная цена билета: {max_fare}\")\n",
        "print(f\"Медианная цена билета: {median_fare}\")\n",
        "print(f\"Доля выживших: {survival_rate:.2%}\")\n",
        "print(f\"Количество мужчин: {gender_counts.get('male', 0)}\")\n",
        "print(f\"Количество женщин: {gender_counts.get('female', 0)}\")"
      ],
      "metadata": {
        "colab": {
          "base_uri": "https://localhost:8080/"
        },
        "id": "EGwfbK6hteGB",
        "outputId": "4397e2ae-0c5f-4d71-9b81-48a302677a6b"
      },
      "execution_count": 65,
      "outputs": [
        {
          "output_type": "stream",
          "name": "stdout",
          "text": [
            "Максимальная цена билета: 512.3292\n",
            "Медианная цена билета: 15.85\n",
            "Доля выживших: 40.87%\n",
            "Количество мужчин: 649\n",
            "Количество женщин: 386\n"
          ]
        }
      ]
    },
    {
      "cell_type": "markdown",
      "metadata": {
        "id": "coYGqVML92Ye"
      },
      "source": [
        "**Задание 2**\n",
        "+ Выведите распределение переменной __pclass__ для мужчин и женщин.\n",
        "    + Сколько мужчин было в первом классе?\n",
        "    + Сколько женщин было в третьем классе?\n",
        "      \n",
        "+ Создайте новый признак __age_group__, который равен:\n",
        "    + 1, если пассажир был моложе 30 лет;\n",
        "    + 2, если пассажиру было от 30 до 60 лет;\n",
        "    + 3, если пассажир был старше 60 лет."
      ]
    },
    {
      "cell_type": "code",
      "source": [
        "# распределение переменной pclass для мужчин и женщин\n",
        "pclass_distribution = df.groupby(\"sex\")[\"pclass\"].value_counts()\n",
        "\n",
        "df[\"age_group\"] = df[\"age\"].apply(lambda x: categorize_age(x) if pd.notnull(x) else None)\n",
        "\n",
        "# выводим результаты\n",
        "print(\"Распределение переменной pclass для мужчин и женщин:\")\n",
        "print(pclass_distribution)"
      ],
      "metadata": {
        "colab": {
          "base_uri": "https://localhost:8080/"
        },
        "id": "TMObUw9rt3aC",
        "outputId": "7be69990-c2b5-491f-ea65-8a8f6d8bdf81"
      },
      "execution_count": 21,
      "outputs": [
        {
          "output_type": "stream",
          "name": "stdout",
          "text": [
            "Распределение переменной pclass для мужчин и женщин:\n",
            "sex     pclass\n",
            "female  3         216\n",
            "        1         144\n",
            "        2         106\n",
            "male    3         493\n",
            "        1         179\n",
            "        2         171\n",
            "Name: count, dtype: int64\n"
          ]
        }
      ]
    },
    {
      "cell_type": "code",
      "source": [
        "# кол-во мужчин в первом классе\n",
        "men_in_first_class = df[(df[\"sex\"] == \"male\") & (df[\"pclass\"] == 1)].shape[0]\n",
        "\n",
        "# кол-во женщина в третьем классе\n",
        "women_in_third_class = df[(df[\"sex\"] == \"female\") & (df[\"pclass\"] == 3)].shape[0]\n",
        "\n",
        "#результаты\n",
        "print(f\"\\nКоличество мужчин в первом классе: {men_in_first_class}\")\n",
        "print(f\"Количество женщин в третьем классе: {women_in_third_class}\")"
      ],
      "metadata": {
        "colab": {
          "base_uri": "https://localhost:8080/"
        },
        "id": "CjhgggTquJvx",
        "outputId": "cde68c57-dc9d-4549-8f6d-b20509054300"
      },
      "execution_count": 18,
      "outputs": [
        {
          "output_type": "stream",
          "name": "stdout",
          "text": [
            "\n",
            "Количество мужчин в первом классе: 179\n",
            "Количество женщин в третьем классе: 216\n"
          ]
        }
      ]
    },
    {
      "cell_type": "code",
      "source": [
        "#создаем новый признак age_group\n",
        "def categorize_age(age):\n",
        "    if age < 30:\n",
        "        return 1\n",
        "    elif 30 <= age <= 60:\n",
        "        return 2\n",
        "    else:\n",
        "        return 3\n",
        "\n",
        "# Проверяем, что новый признак создан\n",
        "print(\"\\nПример данных с новым признаком age_group:\")\n",
        "print(df[[\"age\", \"age_group\"]].head(10))"
      ],
      "metadata": {
        "colab": {
          "base_uri": "https://localhost:8080/"
        },
        "id": "54RShxIpuYOb",
        "outputId": "0ddf0898-19a1-4a1a-e2f7-afe8e49a368f"
      },
      "execution_count": 20,
      "outputs": [
        {
          "output_type": "stream",
          "name": "stdout",
          "text": [
            "\n",
            "Пример данных с новым признаком age_group:\n",
            "       age  age_group\n",
            "0  29.0000        1.0\n",
            "1   0.9167        1.0\n",
            "2   2.0000        1.0\n",
            "3  30.0000        2.0\n",
            "4  25.0000        1.0\n",
            "5  48.0000        2.0\n",
            "6  63.0000        3.0\n",
            "7  39.0000        2.0\n",
            "8  53.0000        2.0\n",
            "9  71.0000        3.0\n"
          ]
        }
      ]
    },
    {
      "cell_type": "markdown",
      "metadata": {
        "id": "uyYMPpyX92Yf"
      },
      "source": [
        "**Задание 3**\\\n",
        "Найдите самое популярное имя среди пассажиров:\n",
        "+ мужчин;\n",
        "+ женщин."
      ]
    },
    {
      "cell_type": "code",
      "source": [
        "\n",
        "# Функция для извлечения первого имени\n",
        "def extract_first_name(full_name):\n",
        "    match = re.search(r'\\(([^)]+)\\)', full_name)  # проверяем, есть ли имя в скобках\n",
        "    if match:\n",
        "        return match.group(1).split()[0]  # берем первое слово из скобок (женское имя) #Если у женщицы в имени есть скобки , берем имя внутрискобок\n",
        "    else:\n",
        "        name_parts = full_name.split(\". \")  #титул заканчивается тчкой\n",
        "        if len(name_parts) > 1:\n",
        "            return name_parts[1].split()[0]  # имя находится сразу после титула\n",
        "    return None\n",
        "\n",
        "# пиименяем функцию к столбцу name\n",
        "df[\"first_name\"] = df[\"name\"].apply(extract_first_name)\n",
        "\n",
        "# самое популярное имя среди мужчин и женщин\n",
        "most_common_male_name = df[df[\"sex\"] == \"male\"][\"first_name\"].mode()[0]\n",
        "most_common_female_name = df[df[\"sex\"] == \"female\"][\"first_name\"].mode()[0]\n",
        "\n",
        "# Выводим результаты\n",
        "print(f\"Самое популярное имя среди мужчин: {most_common_male_name}\")\n",
        "print(f\"Самое популярное имя среди женщин: {most_common_female_name}\")\n"
      ],
      "metadata": {
        "colab": {
          "base_uri": "https://localhost:8080/"
        },
        "id": "GwJXyPftuxPg",
        "outputId": "074e8da6-9b9c-4bb5-8b50-cae855ffa2df"
      },
      "execution_count": 39,
      "outputs": [
        {
          "output_type": "stream",
          "name": "stdout",
          "text": [
            "Самое популярное имя среди мужчин: William\n",
            "Самое популярное имя среди женщин: Mary\n"
          ]
        }
      ]
    },
    {
      "cell_type": "markdown",
      "metadata": {
        "tags": [],
        "id": "b97bzlSF92Yg"
      },
      "source": [
        "**Задание 4**\n",
        "+ Выведите данные о всех пассажирах, которые сели в Cherbourg (Embarked='C') и были старше 50 лет.\n",
        "+ Выведите данные о всех женщинах младше 20 и старше 50 лет.\n",
        "+ Сколько пассажиров старше 70 лет было на борту?"
      ]
    },
    {
      "cell_type": "code",
      "source": [
        "# пассажиры, которые сели в Cherbourg (Embarked='C') и были старше 50 лет\n",
        "cherbourg_over_50 = df[(df[\"embarked\"] == \"C\") & (df[\"age\"] > 50)]\n",
        "\n",
        "# Вывод результатов\n",
        "print(\"Пассажиры, севшие в Cherbourg и старше 50 лет:\")\n",
        "print(cherbourg_over_50)"
      ],
      "metadata": {
        "colab": {
          "base_uri": "https://localhost:8080/"
        },
        "id": "_jY2OFgfzprZ",
        "outputId": "265ff15d-e639-4c0e-ffd9-7be16bac947f"
      },
      "execution_count": 45,
      "outputs": [
        {
          "output_type": "stream",
          "name": "stdout",
          "text": [
            "Пассажиры, севшие в Cherbourg и старше 50 лет:\n",
            "     pclass  survived                                               name  \\\n",
            "9         1         0                            Artagaveytia, Mr. Ramon   \n",
            "43        1         1    Bucknell, Mrs. William Robert (Emma Eliza Ward)   \n",
            "48        1         1   Candee, Mrs. Edward (Helen Churchill Hungerford)   \n",
            "50        1         1  Cardeza, Mrs. James Warburton Martinez (Charlo...   \n",
            "78        1         1  Compton, Mrs. Alexander Taylor (Mary Eliza Ing...   \n",
            "104       1         1                     Eustis, Miss. Elizabeth Mussey   \n",
            "123       1         1                   Frolicher-Stehli, Mr. Maxmillian   \n",
            "135       1         0                          Goldschmidt, Mr. George B   \n",
            "136       1         1                          Gracie, Col. Archibald IV   \n",
            "174       1         0                            Kent, Mr. Edward Austin   \n",
            "186       1         1          Lindstrom, Mrs. Carl Johan (Sigrid Posse)   \n",
            "192       1         1                               Lurette, Miss. Elise   \n",
            "215       1         0                         Newell, Mr. Arthur Webster   \n",
            "221       1         0                     Ostby, Mr. Engelhart Cornelius   \n",
            "233       1         1      Potter, Mrs. Thomas Jr (Lily Alexenia Wilson)   \n",
            "246       1         0                             Rothschild, Mr. Martin   \n",
            "247       1         1     Rothschild, Mrs. Martin (Elizabeth L. Barrett)   \n",
            "252       1         0                         Ryerson, Mr. Arthur Larned   \n",
            "264       1         1                Simonius-Blumer, Col. Oberst Alfons   \n",
            "267       1         0                            Smith, Mr. James Clinch   \n",
            "276       1         0                      Spencer, Mr. William Augustus   \n",
            "280       1         1                    Stengel, Mr. Charles Emil Henry   \n",
            "282       1         1    Stephenson, Mrs. Walter Bertram (Martha Eustis)   \n",
            "303       1         0                           Warren, Mr. Frank Manley   \n",
            "304       1         1   Warren, Mrs. Frank Manley (Anna Sophia Atkinson)   \n",
            "308       1         1              White, Mrs. John Stuart (Ella Holmes)   \n",
            "316       1         0                        Williams, Mr. Charles Duane   \n",
            "\n",
            "        sex   age  sibsp  parch    ticket      fare            cabin embarked  \\\n",
            "9      male  71.0      0      0  PC 17609   49.5042              NaN        C   \n",
            "43   female  60.0      0      0     11813   76.2917              D15        C   \n",
            "48   female  53.0      0      0  PC 17606   27.4458              NaN        C   \n",
            "50   female  58.0      0      1  PC 17755  512.3292      B51 B53 B55        C   \n",
            "78   female  64.0      0      2  PC 17756   83.1583              E45        C   \n",
            "104  female  54.0      1      0     36947   78.2667              D20        C   \n",
            "123    male  60.0      1      1     13567   79.2000              B41        C   \n",
            "135    male  71.0      0      0  PC 17754   34.6542               A5        C   \n",
            "136    male  53.0      0      0    113780   28.5000              C51        C   \n",
            "174    male  58.0      0      0     11771   29.7000              B37        C   \n",
            "186  female  55.0      0      0    112377   27.7208              NaN        C   \n",
            "192  female  58.0      0      0  PC 17569  146.5208              B80        C   \n",
            "215    male  58.0      0      2     35273  113.2750              D48        C   \n",
            "221    male  65.0      0      1    113509   61.9792              B30        C   \n",
            "233  female  56.0      0      1     11767   83.1583              C50        C   \n",
            "246    male  55.0      1      0  PC 17603   59.4000              NaN        C   \n",
            "247  female  54.0      1      0  PC 17603   59.4000              NaN        C   \n",
            "252    male  61.0      1      3  PC 17608  262.3750  B57 B59 B63 B66        C   \n",
            "264    male  56.0      0      0     13213   35.5000              A26        C   \n",
            "267    male  56.0      0      0     17764   30.6958               A7        C   \n",
            "276    male  57.0      1      0  PC 17569  146.5208              B78        C   \n",
            "280    male  54.0      1      0     11778   55.4417             C116        C   \n",
            "282  female  52.0      1      0     36947   78.2667              D20        C   \n",
            "303    male  64.0      1      0    110813   75.2500              D37        C   \n",
            "304  female  60.0      1      0    110813   75.2500              D37        C   \n",
            "308  female  55.0      0      0  PC 17760  135.6333              C32        C   \n",
            "316    male  51.0      0      1  PC 17597   61.3792              NaN        C   \n",
            "\n",
            "    boat   body                           home.dest  age_group  first_name  \n",
            "9    NaN   22.0                 Montevideo, Uruguay        3.0       Ramon  \n",
            "43     8    NaN                    Philadelphia, PA        2.0        Emma  \n",
            "48     6    NaN                      Washington, DC        2.0       Helen  \n",
            "50     3    NaN        Germantown, Philadelphia, PA        2.0   Charlotte  \n",
            "78    14    NaN                        Lakewood, NJ        3.0        Mary  \n",
            "104    4    NaN                       Brookline, MA        2.0   Elizabeth  \n",
            "123    5    NaN                 Zurich, Switzerland        2.0  Maxmillian  \n",
            "135  NaN    NaN                        New York, NY        3.0      George  \n",
            "136    B    NaN                      Washington, DC        2.0   Archibald  \n",
            "174  NaN  258.0                         Buffalo, NY        2.0      Edward  \n",
            "186    6    NaN                   Stockholm, Sweden        2.0      Sigrid  \n",
            "192  NaN    NaN                                 NaN        2.0       Elise  \n",
            "215  NaN  122.0                       Lexington, MA        2.0      Arthur  \n",
            "221  NaN  234.0                      Providence, RI        3.0   Engelhart  \n",
            "233    7    NaN           Mt Airy, Philadelphia, PA        2.0        Lily  \n",
            "246  NaN    NaN                        New York, NY        2.0      Martin  \n",
            "247    6    NaN                        New York, NY        2.0   Elizabeth  \n",
            "252  NaN    NaN     Haverford, PA / Cooperstown, NY        3.0      Arthur  \n",
            "264    3    NaN                  Basel, Switzerland        2.0      Oberst  \n",
            "267  NaN    NaN           St James, Long Island, NY        2.0       James  \n",
            "276  NaN    NaN                       Paris, France        2.0     William  \n",
            "280    1    NaN                          Newark, NJ        2.0     Charles  \n",
            "282    4    NaN                       Haverford, PA        2.0      Martha  \n",
            "303  NaN    NaN                        Portland, OR        3.0       Frank  \n",
            "304    5    NaN                        Portland, OR        2.0        Anna  \n",
            "308    8    NaN  New York, NY / Briarcliff Manor NY        2.0        Ella  \n",
            "316  NaN    NaN    Geneva, Switzerland / Radnor, PA        2.0     Charles  \n"
          ]
        }
      ]
    },
    {
      "cell_type": "code",
      "source": [
        "# фильтр: все женщины младше 20 и старше 50 лет\n",
        "women_under_20_or_over_50 = df[(df[\"sex\"] == \"female\") & ((df[\"age\"] < 20) | (df[\"age\"] > 50))]\n",
        "#результаты\n",
        "print(\"\\nЖенщины младше 20 или старше 50 лет:\")\n",
        "print(women_under_20_or_over_50)"
      ],
      "metadata": {
        "colab": {
          "base_uri": "https://localhost:8080/"
        },
        "id": "tr106zAVz3Ng",
        "outputId": "1ee0118a-2ab6-4c14-8a25-9ed2fa6eefb1"
      },
      "execution_count": 42,
      "outputs": [
        {
          "output_type": "stream",
          "name": "stdout",
          "text": [
            "\n",
            "Женщины младше 20 или старше 50 лет:\n",
            "      pclass  survived                                               name  \\\n",
            "2          1         0                       Allison, Miss. Helen Loraine   \n",
            "6          1         1                  Andrews, Miss. Kornelia Theodosia   \n",
            "8          1         1      Appleton, Mrs. Edward Dale (Charlotte Lamson)   \n",
            "11         1         1  Astor, Mrs. John Jacob (Madeleine Talmadge Force)   \n",
            "27         1         1            Bishop, Mrs. Dickinson H (Helen Walton)   \n",
            "...      ...       ...                                                ...   \n",
            "1265       3         0                          Van Impe, Miss. Catharina   \n",
            "1273       3         0                 Vander Planke, Miss. Augusta Maria   \n",
            "1279       3         0               Vestrom, Miss. Hulda Amanda Adolfina   \n",
            "1300       3         1            Yasbeck, Mrs. Antoni (Selini Alexander)   \n",
            "1304       3         0                               Zabour, Miss. Hileni   \n",
            "\n",
            "         sex   age  sibsp  parch    ticket      fare    cabin embarked boat  \\\n",
            "2     female   2.0      1      2    113781  151.5500  C22 C26        S  NaN   \n",
            "6     female  63.0      1      0     13502   77.9583       D7        S   10   \n",
            "8     female  53.0      2      0     11769   51.4792     C101        S    D   \n",
            "11    female  18.0      1      0  PC 17757  227.5250  C62 C64        C    4   \n",
            "27    female  19.0      1      0     11967   91.0792      B49        C    7   \n",
            "...      ...   ...    ...    ...       ...       ...      ...      ...  ...   \n",
            "1265  female  10.0      0      2    345773   24.1500      NaN        S  NaN   \n",
            "1273  female  18.0      2      0    345764   18.0000      NaN        S  NaN   \n",
            "1279  female  14.0      0      0    350406    7.8542      NaN        S  NaN   \n",
            "1300  female  15.0      1      0      2659   14.4542      NaN        C  NaN   \n",
            "1304  female  14.5      1      0      2665   14.4542      NaN        C  NaN   \n",
            "\n",
            "       body                        home.dest  age_group first_name  \n",
            "2       NaN  Montreal, PQ / Chesterville, ON        1.0      Helen  \n",
            "6       NaN                       Hudson, NY        3.0   Kornelia  \n",
            "8       NaN              Bayside, Queens, NY        2.0  Charlotte  \n",
            "11      NaN                     New York, NY        1.0  Madeleine  \n",
            "27      NaN                     Dowagiac, MI        1.0      Helen  \n",
            "...     ...                              ...        ...        ...  \n",
            "1265    NaN                              NaN        1.0  Catharina  \n",
            "1273    NaN                              NaN        1.0    Augusta  \n",
            "1279    NaN                              NaN        1.0      Hulda  \n",
            "1300    NaN                              NaN        1.0     Selini  \n",
            "1304  328.0                              NaN        1.0     Hileni  \n",
            "\n",
            "[135 rows x 16 columns]\n"
          ]
        }
      ]
    },
    {
      "cell_type": "code",
      "source": [
        "# Кол-во пассажиров старше 70 лет\n",
        "passengers_over_70 = df[df[\"age\"] > 70].shape[0]\n",
        "\n",
        "\n",
        "print(f\"\\nКоличество пассажиров старше 70 лет: {passengers_over_70}\")"
      ],
      "metadata": {
        "colab": {
          "base_uri": "https://localhost:8080/"
        },
        "id": "fF10yLxc0H7C",
        "outputId": "9876cc03-1b6c-41ee-8fc5-6fd19d911fdf"
      },
      "execution_count": 44,
      "outputs": [
        {
          "output_type": "stream",
          "name": "stdout",
          "text": [
            "\n",
            "Количество пассажиров старше 70 лет: 6\n"
          ]
        }
      ]
    },
    {
      "cell_type": "markdown",
      "metadata": {
        "id": "Yt6UE4KS92Yk"
      },
      "source": [
        "**Задание 5**\n",
        "+ Посчитайте средний возраст среди мужчин и среди женщин.\n",
        "+ Посчитайте доли выживших в различных возрастных группах (новый признак **AgeGroup**).\n",
        "+ Найдите максимальную стоимость билета в каждом из ценовых классов."
      ]
    },
    {
      "cell_type": "code",
      "source": [
        "# средний возраст\n",
        "mean_age_male = df[df[\"sex\"] == \"male\"][\"age\"].mean()\n",
        "mean_age_female = df[df[\"sex\"] == \"female\"][\"age\"].mean()\n",
        "\n",
        "# новый признак agegroup:\n",
        "# 1 - до 18 лет, 2 - 18-40 лет, 3 - 40-60 лет, 4 - старше 60 лет\n",
        "def categorize_age(age):\n",
        "    if age < 30:\n",
        "        return 1\n",
        "    elif 30 <= age <= 60:\n",
        "        return 2\n",
        "    else:\n",
        "        return 3\n",
        "df[\"AgeGroup\"] = df[\"age\"].apply(lambda x: categorize_age(x) if pd.notnull(x) else None)\n",
        "\n",
        "# Выводим результаты\n",
        "print(f\"Средний возраст мужчин: {mean_age_male:.2f}\")\n",
        "print(f\"Средний возраст женщин: {mean_age_female:.2f}\\n\")\n",
        "\n",
        "# доли выживших в различных возрастных группах\n",
        "survival_rates_by_age_group = df.groupby(\"AgeGroup\")[\"survived\"].mean()\n",
        "\n",
        "# найдем макс. стоимость билета в каждом ценовом классе (pclass)\n",
        "max_fare_by_class = df.groupby(\"pclass\")[\"fare\"].max()\n",
        "\n",
        "print(\"Доли выживших в различных возрастных группах:\")\n",
        "print(survival_rates_by_age_group, \"\\n\")\n",
        "\n",
        "print(\"Максимальная стоимость билета в каждом классе:\")\n",
        "print(max_fare_by_class)"
      ],
      "metadata": {
        "colab": {
          "base_uri": "https://localhost:8080/"
        },
        "id": "KbXRxfTF0Y_C",
        "outputId": "d23144a4-9d71-449c-c393-319bb66f30f0"
      },
      "execution_count": 51,
      "outputs": [
        {
          "output_type": "stream",
          "name": "stdout",
          "text": [
            "Средний возраст мужчин: 30.59\n",
            "Средний возраст женщин: 28.69\n",
            "\n",
            "Доли выживших в различных возрастных группах:\n",
            "AgeGroup\n",
            "1.0    0.409490\n",
            "2.0    0.418919\n",
            "3.0    0.242424\n",
            "Name: survived, dtype: float64 \n",
            "\n",
            "Максимальная стоимость билета в каждом классе:\n",
            "pclass\n",
            "1    512.3292\n",
            "2     73.5000\n",
            "3     69.5500\n",
            "Name: fare, dtype: float64\n"
          ]
        }
      ]
    },
    {
      "cell_type": "markdown",
      "metadata": {
        "id": "UgnIqugM92Yl"
      },
      "source": [
        "**Задание 6**\\\n",
        "Ответьте на предыдущие вопросы с помощью функции crosstab и метода pivot_table."
      ]
    },
    {
      "cell_type": "code",
      "execution_count": 53,
      "metadata": {
        "id": "e6XzdrNI92Yn",
        "colab": {
          "base_uri": "https://localhost:8080/"
        },
        "outputId": "b0a99040-b127-4d64-ac9b-a1b3985461bd"
      },
      "outputs": [
        {
          "output_type": "stream",
          "name": "stdout",
          "text": [
            "Средний возраст среди мужчин и женщин (pivot_table):\n",
            "              age\n",
            "sex              \n",
            "female  28.687071\n",
            "male    30.585233 \n",
            "\n",
            "Доли выживших в различных возрастных группах (crosstab):\n",
            "survived         0         1\n",
            "AgeGroup                    \n",
            "1.0       0.590510  0.409490\n",
            "2.0       0.581081  0.418919\n",
            "3.0       0.757576  0.242424 \n",
            "\n",
            "Максимальная стоимость билета в каждом классе (pivot_table):\n",
            "            fare\n",
            "pclass          \n",
            "1       512.3292\n",
            "2        73.5000\n",
            "3        69.5500\n"
          ]
        }
      ],
      "source": [
        "\n",
        "def categorize_age(age):\n",
        "    if age < 30:\n",
        "        return 1\n",
        "    elif 30 <= age <= 60:\n",
        "        return 2\n",
        "    else:\n",
        "        return 3\n",
        "\n",
        "df[\"AgeGroup\"] = df[\"age\"].apply(lambda x: categorize_age(x) if pd.notnull(x) else None)\n",
        "\n",
        "mean_age_pivot = df.pivot_table(values=\"age\", index=\"sex\", aggfunc=\"mean\")\n",
        "\n",
        "survival_rate_crosstab = pd.crosstab(df[\"AgeGroup\"], df[\"survived\"], normalize=\"index\")\n",
        "\n",
        "max_fare_pivot = df.pivot_table(values=\"fare\", index=\"pclass\", aggfunc=\"max\")\n",
        "\n",
        "print(\"Средний возраст среди мужчин и женщин (pivot_table):\")\n",
        "print(mean_age_pivot, \"\\n\")\n",
        "\n",
        "print(\"Доли выживших в различных возрастных группах (crosstab):\")\n",
        "print(survival_rate_crosstab, \"\\n\")\n",
        "\n",
        "print(\"Максимальная стоимость билета в каждом классе (pivot_table):\")\n",
        "print(max_fare_pivot)"
      ]
    },
    {
      "cell_type": "code",
      "source": [],
      "metadata": {
        "id": "qytRRpZk3CRP"
      },
      "execution_count": null,
      "outputs": []
    },
    {
      "cell_type": "code",
      "execution_count": null,
      "metadata": {
        "id": "Y1fLcDDG92Yn"
      },
      "outputs": [],
      "source": []
    },
    {
      "cell_type": "code",
      "execution_count": null,
      "metadata": {
        "id": "SFnfJLTG92Yo"
      },
      "outputs": [],
      "source": []
    },
    {
      "cell_type": "code",
      "execution_count": null,
      "metadata": {
        "id": "GqQU0mj792Yo"
      },
      "outputs": [],
      "source": []
    },
    {
      "cell_type": "code",
      "execution_count": null,
      "metadata": {
        "id": "aWIvPKAD92Yo"
      },
      "outputs": [],
      "source": []
    }
  ],
  "metadata": {
    "kernelspec": {
      "display_name": "Python 3 (ipykernel)",
      "language": "python",
      "name": "python3"
    },
    "language_info": {
      "codemirror_mode": {
        "name": "ipython",
        "version": 3
      },
      "file_extension": ".py",
      "mimetype": "text/x-python",
      "name": "python",
      "nbconvert_exporter": "python",
      "pygments_lexer": "ipython3",
      "version": "3.11.2"
    },
    "colab": {
      "provenance": []
    }
  },
  "nbformat": 4,
  "nbformat_minor": 0
}